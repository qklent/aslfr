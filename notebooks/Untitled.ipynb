{
 "cells": [
  {
   "cell_type": "code",
   "execution_count": 4,
   "id": "1f970350-a7d0-4f55-9c39-d475a00612d8",
   "metadata": {},
   "outputs": [],
   "source": [
    "import tensorflow as tf\n",
    "import numpy as np"
   ]
  },
  {
   "cell_type": "code",
   "execution_count": 16,
   "id": "ae224461-a5f9-43db-8d16-e1751aed0b6d",
   "metadata": {},
   "outputs": [],
   "source": [
    "PAD_TOKEN = 59\n",
    "N_UNIQUE_CHARACTERS = 62"
   ]
  },
  {
   "cell_type": "code",
   "execution_count": 31,
   "id": "98882f2f-50ca-4803-a79b-3d19b4ab9b32",
   "metadata": {},
   "outputs": [],
   "source": [
    "y_true = np.random.randn(2, 32, N_UNIQUE_CHARACTERS)"
   ]
  },
  {
   "cell_type": "code",
   "execution_count": 35,
   "id": "e08b2769-2492-4e92-90f9-7143897ee563",
   "metadata": {},
   "outputs": [],
   "source": [
    "def scce_with_ls(y_true, y_pred):\n",
    "    # Filter Pad Tokens\n",
    "    idxs = tf.where(y_true != PAD_TOKEN)\n",
    "    y_true = tf.gather_nd(y_true, idxs)\n",
    "    y_pred = tf.gather_nd(y_pred, idxs)\n",
    "    # One Hot Encode Sparsely Encoded Target Sign\n",
    "    y_true = tf.cast(y_true, tf.int32)\n",
    "    y_true = tf.one_hot(y_true, N_UNIQUE_CHARACTERS, axis=1)\n",
    "    # Categorical Crossentropy with native label smoothing support\n",
    "    loss = tf.keras.losses.categorical_crossentropy(y_true, y_pred, label_smoothing=0.25, from_logits=True)\n",
    "    loss = tf.math.reduce_mean(loss)\n",
    "    return loss"
   ]
  },
  {
   "cell_type": "code",
   "execution_count": 40,
   "id": "2e823a8c-2893-47bc-9671-5a986efa5f80",
   "metadata": {},
   "outputs": [],
   "source": [
    "def scce_with_ls_1(y_true, y_pred):\n",
    "    # Filter Pad Tokens\n",
    "    non_pad_mask = y_true != PAD_TOKEN\n",
    "    y_true = y_true[non_pad_mask]\n",
    "    y_pred = y_pred[non_pad_mask]\n",
    "    \n",
    "    # Rest of the code remains unchanged...\n",
    "    y_true = tf.cast(y_true, tf.int32)\n",
    "    y_true = tf.one_hot(y_true, N_UNIQUE_CHARACTERS, axis=1)\n",
    "    loss = tf.keras.losses.categorical_crossentropy(y_true, y_pred, label_smoothing=0.25, from_logits=True)\n",
    "    loss = tf.math.reduce_mean(loss)\n",
    "    return loss"
   ]
  },
  {
   "cell_type": "code",
   "execution_count": 37,
   "id": "4d346ad8-59ba-4aed-9145-e4c8fb350f6c",
   "metadata": {},
   "outputs": [],
   "source": [
    "y_pred = np.random.randint(0, N_UNIQUE_CHARACTERS, size=[2, 32])"
   ]
  },
  {
   "cell_type": "code",
   "execution_count": 38,
   "id": "7c8f31cf-4ae7-467c-b731-d7e7d2e0b389",
   "metadata": {},
   "outputs": [
    {
     "name": "stderr",
     "output_type": "stream",
     "text": [
      "2023-08-22 15:44:14.192683: W tensorflow/core/framework/op_kernel.cc:1828] OP_REQUIRES failed at gather_nd_op.cc:48 : INVALID_ARGUMENT: index innermost dimension length must be <= params rank; saw: 3 vs. 2\n"
     ]
    },
    {
     "ename": "InvalidArgumentError",
     "evalue": "{{function_node __wrapped__GatherNd_device_/job:localhost/replica:0/task:0/device:CPU:0}} index innermost dimension length must be <= params rank; saw: 3 vs. 2 [Op:GatherNd] name: ",
     "output_type": "error",
     "traceback": [
      "\u001b[0;31m---------------------------------------------------------------------------\u001b[0m",
      "\u001b[0;31mInvalidArgumentError\u001b[0m                      Traceback (most recent call last)",
      "Cell \u001b[0;32mIn[38], line 1\u001b[0m\n\u001b[0;32m----> 1\u001b[0m \u001b[43mscce_with_ls\u001b[49m\u001b[43m(\u001b[49m\u001b[43my_true\u001b[49m\u001b[43m,\u001b[49m\u001b[43m \u001b[49m\u001b[43my_pred\u001b[49m\u001b[43m)\u001b[49m\n",
      "Cell \u001b[0;32mIn[35], line 5\u001b[0m, in \u001b[0;36mscce_with_ls\u001b[0;34m(y_true, y_pred)\u001b[0m\n\u001b[1;32m      3\u001b[0m idxs \u001b[38;5;241m=\u001b[39m tf\u001b[38;5;241m.\u001b[39mwhere(y_true \u001b[38;5;241m!=\u001b[39m PAD_TOKEN)\n\u001b[1;32m      4\u001b[0m y_true \u001b[38;5;241m=\u001b[39m tf\u001b[38;5;241m.\u001b[39mgather_nd(y_true, idxs)\n\u001b[0;32m----> 5\u001b[0m y_pred \u001b[38;5;241m=\u001b[39m \u001b[43mtf\u001b[49m\u001b[38;5;241;43m.\u001b[39;49m\u001b[43mgather_nd\u001b[49m\u001b[43m(\u001b[49m\u001b[43my_pred\u001b[49m\u001b[43m,\u001b[49m\u001b[43m \u001b[49m\u001b[43midxs\u001b[49m\u001b[43m)\u001b[49m\n\u001b[1;32m      6\u001b[0m \u001b[38;5;66;03m# One Hot Encode Sparsely Encoded Target Sign\u001b[39;00m\n\u001b[1;32m      7\u001b[0m y_true \u001b[38;5;241m=\u001b[39m tf\u001b[38;5;241m.\u001b[39mcast(y_true, tf\u001b[38;5;241m.\u001b[39mint32)\n",
      "File \u001b[0;32m~/programming/machine_learning/alfa_bank_receipts/.venv/lib/python3.11/site-packages/tensorflow/python/util/traceback_utils.py:153\u001b[0m, in \u001b[0;36mfilter_traceback.<locals>.error_handler\u001b[0;34m(*args, **kwargs)\u001b[0m\n\u001b[1;32m    151\u001b[0m \u001b[38;5;28;01mexcept\u001b[39;00m \u001b[38;5;167;01mException\u001b[39;00m \u001b[38;5;28;01mas\u001b[39;00m e:\n\u001b[1;32m    152\u001b[0m   filtered_tb \u001b[38;5;241m=\u001b[39m _process_traceback_frames(e\u001b[38;5;241m.\u001b[39m__traceback__)\n\u001b[0;32m--> 153\u001b[0m   \u001b[38;5;28;01mraise\u001b[39;00m e\u001b[38;5;241m.\u001b[39mwith_traceback(filtered_tb) \u001b[38;5;28;01mfrom\u001b[39;00m \u001b[38;5;28;01mNone\u001b[39;00m\n\u001b[1;32m    154\u001b[0m \u001b[38;5;28;01mfinally\u001b[39;00m:\n\u001b[1;32m    155\u001b[0m   \u001b[38;5;28;01mdel\u001b[39;00m filtered_tb\n",
      "File \u001b[0;32m~/programming/machine_learning/alfa_bank_receipts/.venv/lib/python3.11/site-packages/tensorflow/python/framework/ops.py:6656\u001b[0m, in \u001b[0;36mraise_from_not_ok_status\u001b[0;34m(e, name)\u001b[0m\n\u001b[1;32m   6654\u001b[0m \u001b[38;5;28;01mdef\u001b[39;00m \u001b[38;5;21mraise_from_not_ok_status\u001b[39m(e, name):\n\u001b[1;32m   6655\u001b[0m   e\u001b[38;5;241m.\u001b[39mmessage \u001b[38;5;241m+\u001b[39m\u001b[38;5;241m=\u001b[39m (\u001b[38;5;124m\"\u001b[39m\u001b[38;5;124m name: \u001b[39m\u001b[38;5;124m\"\u001b[39m \u001b[38;5;241m+\u001b[39m \u001b[38;5;28mstr\u001b[39m(name \u001b[38;5;28;01mif\u001b[39;00m name \u001b[38;5;129;01mis\u001b[39;00m \u001b[38;5;129;01mnot\u001b[39;00m \u001b[38;5;28;01mNone\u001b[39;00m \u001b[38;5;28;01melse\u001b[39;00m \u001b[38;5;124m\"\u001b[39m\u001b[38;5;124m\"\u001b[39m))\n\u001b[0;32m-> 6656\u001b[0m   \u001b[38;5;28;01mraise\u001b[39;00m core\u001b[38;5;241m.\u001b[39m_status_to_exception(e) \u001b[38;5;28;01mfrom\u001b[39;00m \u001b[38;5;28;01mNone\u001b[39;00m\n",
      "\u001b[0;31mInvalidArgumentError\u001b[0m: {{function_node __wrapped__GatherNd_device_/job:localhost/replica:0/task:0/device:CPU:0}} index innermost dimension length must be <= params rank; saw: 3 vs. 2 [Op:GatherNd] name: "
     ]
    }
   ],
   "source": [
    "scce_with_ls(y_true, y_pred)"
   ]
  },
  {
   "cell_type": "code",
   "execution_count": 42,
   "id": "756e1267-fed2-4b33-9b83-2db2aee21b37",
   "metadata": {},
   "outputs": [
    {
     "ename": "IndexError",
     "evalue": "too many indices for array: array is 2-dimensional, but 3 were indexed",
     "output_type": "error",
     "traceback": [
      "\u001b[0;31m---------------------------------------------------------------------------\u001b[0m",
      "\u001b[0;31mIndexError\u001b[0m                                Traceback (most recent call last)",
      "Cell \u001b[0;32mIn[42], line 1\u001b[0m\n\u001b[0;32m----> 1\u001b[0m \u001b[43mscce_with_ls_1\u001b[49m\u001b[43m(\u001b[49m\u001b[43my_true\u001b[49m\u001b[43m,\u001b[49m\u001b[43m \u001b[49m\u001b[43my_pred\u001b[49m\u001b[43m)\u001b[49m\n",
      "Cell \u001b[0;32mIn[40], line 5\u001b[0m, in \u001b[0;36mscce_with_ls_1\u001b[0;34m(y_true, y_pred)\u001b[0m\n\u001b[1;32m      3\u001b[0m non_pad_mask \u001b[38;5;241m=\u001b[39m y_true \u001b[38;5;241m!=\u001b[39m PAD_TOKEN\n\u001b[1;32m      4\u001b[0m y_true \u001b[38;5;241m=\u001b[39m y_true[non_pad_mask]\n\u001b[0;32m----> 5\u001b[0m y_pred \u001b[38;5;241m=\u001b[39m \u001b[43my_pred\u001b[49m\u001b[43m[\u001b[49m\u001b[43mnon_pad_mask\u001b[49m\u001b[43m]\u001b[49m\n\u001b[1;32m      7\u001b[0m \u001b[38;5;66;03m# Rest of the code remains unchanged...\u001b[39;00m\n\u001b[1;32m      8\u001b[0m y_true \u001b[38;5;241m=\u001b[39m tf\u001b[38;5;241m.\u001b[39mcast(y_true, tf\u001b[38;5;241m.\u001b[39mint32)\n",
      "\u001b[0;31mIndexError\u001b[0m: too many indices for array: array is 2-dimensional, but 3 were indexed"
     ]
    }
   ],
   "source": [
    "scce_with_ls_1(y_true, y_pred)"
   ]
  },
  {
   "cell_type": "code",
   "execution_count": null,
   "id": "564d33ae-7814-48fb-9fae-29becbba0173",
   "metadata": {},
   "outputs": [],
   "source": []
  }
 ],
 "metadata": {
  "kernelspec": {
   "display_name": ".venv",
   "language": "python",
   "name": ".venv"
  },
  "language_info": {
   "codemirror_mode": {
    "name": "ipython",
    "version": 3
   },
   "file_extension": ".py",
   "mimetype": "text/x-python",
   "name": "python",
   "nbconvert_exporter": "python",
   "pygments_lexer": "ipython3",
   "version": "3.11.3"
  }
 },
 "nbformat": 4,
 "nbformat_minor": 5
}
