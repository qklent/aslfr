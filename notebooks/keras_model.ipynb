{
 "cells": [
  {
   "cell_type": "code",
   "execution_count": 1,
   "id": "386295f0-3a06-4117-b041-09ff8a1a0eba",
   "metadata": {},
   "outputs": [
    {
     "name": "stderr",
     "output_type": "stream",
     "text": [
      "2023-08-19 16:41:46.086760: I tensorflow/tsl/cuda/cudart_stub.cc:28] Could not find cuda drivers on your machine, GPU will not be used.\n",
      "2023-08-19 16:41:46.381721: I tensorflow/tsl/cuda/cudart_stub.cc:28] Could not find cuda drivers on your machine, GPU will not be used.\n",
      "2023-08-19 16:41:46.383325: I tensorflow/core/platform/cpu_feature_guard.cc:182] This TensorFlow binary is optimized to use available CPU instructions in performance-critical operations.\n",
      "To enable the following instructions: AVX2 FMA, in other operations, rebuild TensorFlow with the appropriate compiler flags.\n",
      "2023-08-19 16:41:48.531523: W tensorflow/compiler/tf2tensorrt/utils/py_utils.cc:38] TF-TRT Warning: Could not find TensorRT\n"
     ]
    }
   ],
   "source": [
    "from tensorflow.keras.models import Model\n",
    "from tensorflow.keras.layers import Conv2D, BatchNormalization, LeakyReLU, Dense, Flatten, Softmax, Input, Reshape\n",
    "from tensorflow import keras\n",
    "import numpy as np\n",
    "import tensorflow as tf"
   ]
  },
  {
   "cell_type": "code",
   "execution_count": 2,
   "id": "11a93189-c84b-4649-99f0-cdc488f45683",
   "metadata": {},
   "outputs": [],
   "source": [
    "BATCH_SIZE = 2"
   ]
  },
  {
   "cell_type": "code",
   "execution_count": 47,
   "id": "cca8b4f3-c69b-4fbd-8ccf-5d019f37f890",
   "metadata": {},
   "outputs": [],
   "source": [
    "class SignRecognition(tf.keras.Model):\n",
    "    def __init__(self, frames, kernel_size=2, stride=2):\n",
    "        super(SignRecognition, self).__init__()\n",
    "        \n",
    "        self.reshape0 = Reshape(target_shape=(82, 2, 128))\n",
    "        \n",
    "        self.conv1 = Conv2D(frames // 2, kernel_size=kernel_size, strides=stride)\n",
    "        self.bn1 = BatchNormalization()\n",
    "        self.leaky_relu = LeakyReLU(0.1)\n",
    "\n",
    "        self.reshape1 = Reshape(target_shape=(41, frames // 2, 1))\n",
    "        \n",
    "        self.conv2 = Conv2D(1, kernel_size=kernel_size, strides=stride)\n",
    "        self.bn2 = BatchNormalization()\n",
    "        \n",
    "        self.reshape2 = Reshape(target_shape=(20, 32))\n",
    "\n",
    "        self.lin1 = Dense(128, activation=\"tanh\")\n",
    "\n",
    "        self.reshape3 = Reshape(target_shape=(128, 20))\n",
    "        \n",
    "    def call(self, x):\n",
    "        x = self.reshape0(x)\n",
    "        x = self.conv1(x)  # B, 41, 1, 64\n",
    "        x = self.leaky_relu(self.bn1(x))\n",
    "        x = self.reshape1(x)\n",
    "        \n",
    "        x = self.conv2(x)  # B, 1, 32, 20\n",
    "        x = self.leaky_relu(self.bn2(x))\n",
    "        x = self.reshape2(x)\n",
    "        x = self.lin1(x)\n",
    "        x = self.reshape3(x)\n",
    "        return x\n"
   ]
  },
  {
   "cell_type": "code",
   "execution_count": 48,
   "id": "ffa5fab3-aa6b-4703-a5ec-3b474d87fff5",
   "metadata": {},
   "outputs": [],
   "source": [
    "frames = 128 # Specify the number of frames\n",
    "model = SignRecognition(frames)"
   ]
  },
  {
   "cell_type": "code",
   "execution_count": 49,
   "id": "a11a48a9-b574-463e-8094-15c292d232ef",
   "metadata": {},
   "outputs": [
    {
     "name": "stdout",
     "output_type": "stream",
     "text": [
      "1/1 [==============================] - 0s 283ms/step\n"
     ]
    },
    {
     "data": {
      "text/plain": [
       "(1, 128, 20)"
      ]
     },
     "execution_count": 49,
     "metadata": {},
     "output_type": "execute_result"
    }
   ],
   "source": [
    "# Example data (replace with your own data)\n",
    "x_test = np.random.rand(1, 128, 82, 2)\n",
    "\n",
    "predictions = model.predict(x_test)\n",
    "predictions.shape"
   ]
  },
  {
   "cell_type": "code",
   "execution_count": null,
   "id": "090fd366-d55b-424e-b225-3e4ace99bddb",
   "metadata": {},
   "outputs": [],
   "source": []
  },
  {
   "cell_type": "code",
   "execution_count": null,
   "id": "6c8f42f8-8493-43d3-8bb5-25ce331a51ba",
   "metadata": {},
   "outputs": [],
   "source": []
  }
 ],
 "metadata": {
  "kernelspec": {
   "display_name": ".venv",
   "language": "python",
   "name": ".venv"
  },
  "language_info": {
   "codemirror_mode": {
    "name": "ipython",
    "version": 3
   },
   "file_extension": ".py",
   "mimetype": "text/x-python",
   "name": "python",
   "nbconvert_exporter": "python",
   "pygments_lexer": "ipython3",
   "version": "3.11.3"
  }
 },
 "nbformat": 4,
 "nbformat_minor": 5
}
