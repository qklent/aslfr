{
 "cells": [
  {
   "cell_type": "code",
   "execution_count": 23,
   "id": "52f0c241-f39e-4e38-85af-9f2198830df2",
   "metadata": {},
   "outputs": [],
   "source": [
    "import torch\n",
    "from torch import nn\n",
    "import torch.nn.functional as F"
   ]
  },
  {
   "cell_type": "code",
   "execution_count": 78,
   "id": "7a5726a8-7da7-4a7a-a11c-b84c1ce62eee",
   "metadata": {},
   "outputs": [],
   "source": [
    "device = \"cuda\" if torch.cuda.is_available() else \"cpu\" \n",
    "MAX_PHRASE_LENGTH = 32"
   ]
  },
  {
   "cell_type": "code",
   "execution_count": 92,
   "id": "d4cd9891-f43d-4a9c-8648-818fb953945c",
   "metadata": {},
   "outputs": [],
   "source": [
    "class SignRecognition(nn.Module):\n",
    "    def __init__(self, frames, kernel_size=2, stride=2):\n",
    "        super().__init__()\n",
    "        self.conv1 = nn.Conv2d(frames, frames // 4, kernel_size=kernel_size, stride=stride)\n",
    "        self.bn1 = nn.BatchNorm2d(frames // 4)\n",
    "        self.lin1 = nn.Linear(41, 128)\n",
    "        self.lin2 = nn.Linear(128, N_UNIQUE_CHARACTERS)\n",
    "        self.gelu = torch.nn.GELU()\n",
    "        self.softmax = nn.Softmax(dim=-1)\n",
    "        \n",
    "\n",
    "    def forward(self, x):\n",
    "        x = self.conv1(x) # 128 41 1\n",
    "        x = self.gelu(self.bn1(x))\n",
    "        x = x.squeeze(dim=-1)\n",
    "        x = self.lin1(x)\n",
    "        x = self.gelu(x)\n",
    "        x = self.lin2(x)\n",
    "        x = self.softmax(x)\n",
    "        return x"
   ]
  },
  {
   "cell_type": "code",
   "execution_count": 93,
   "id": "3244bce7-d2fc-47fe-957f-8f31c4b18d06",
   "metadata": {},
   "outputs": [],
   "source": [
    "class SelfAttention(nn.Module):\n",
    "    def __init__(self, embed_size, heads):\n",
    "        super().__init__()\n",
    "        self.embed_size = embed_size\n",
    "        self.heads = heads\n",
    "        self.head_dim = embed_size // heads\n",
    "        \n",
    "        assert (self.head_dim * heads == embed_size), \"Embed size needs to be divisible by heads\"\n",
    "        self.values = nn.Linear(embed_size, embed_size, bias=False)\n",
    "        self.keys = nn.Linear(embed_size, embed_size, bias=False)\n",
    "        self.queries = nn.Linear(embed_size, embed_size, bias=False)\n",
    "        self.fc_out = nn.Linear(heads*self.head_dim, embed_size) # concat them\n",
    "        \n",
    "    def forward(self, values, keys, query, mask):\n",
    "        N = query.shape[0]\n",
    "        value_len, key_len, query_len = values.shape[1], keys.shape[1], query.shape[1]\n",
    "        \n",
    "        values = self.values(values)\n",
    "        keys = self.keys(keys)\n",
    "        queries = self.queries(query)\n",
    "        \n",
    "        # split embedding into self.heads pieces\n",
    "        values = values.reshape(N, value_len, self.heads, self.head_dim)\n",
    "        keys = keys.reshape(N, key_len, self.heads, self.head_dim)\n",
    "        queries = query.reshape(N, query_len, self.heads, self.head_dim)\n",
    "        \n",
    "        # energy shape: (N, heads, query_len, key_len) table with attention on\n",
    "        # each word from target to input\n",
    "        energy = torch.einsum(\"nqhd,nkhd->nhqk\", [queries, keys])\n",
    "        \n",
    "        if mask is not None:\n",
    "            energy = energy.masked_fill(mask == 0, float(\"-1e20\"))\n",
    "            \n",
    "        attention = torch.softmax(energy / (self.embed_size ** (1/2)), dim=3)\n",
    "        # since value_len == key_len i use l for both\n",
    "        out = torch.einsum(\"nhql,nlhd->nqhd\", [attention, values]).reshape(\n",
    "            N, query_len, self.heads*self.head_dim,\n",
    "        ) # flatten last 2 dimensions\n",
    "        \n",
    "        out = self.fc_out(out)\n",
    "        return out\n",
    "        \n",
    "\n",
    "class TransformerBlock(nn.Module):\n",
    "    def __init__(self, embed_size, heads, dropout, forward_expansion):\n",
    "        super().__init__()\n",
    "        self.attention = SelfAttention(embed_size, heads)\n",
    "        self.norm1 = nn.LayerNorm(embed_size)\n",
    "        self.norm2 = nn.LayerNorm(embed_size)\n",
    "        \n",
    "        self.feed_forward = nn.Sequential(\n",
    "            nn.Linear(embed_size, forward_expansion*embed_size),\n",
    "            nn.ReLU(),\n",
    "            nn.Linear(forward_expansion*embed_size, embed_size)\n",
    "        )\n",
    "        self.dropout = nn.Dropout(dropout)\n",
    "        \n",
    "        \n",
    "    def forward(self, value, key, query, mask):\n",
    "        attention = self.attention(value, key, query, mask)\n",
    "        \n",
    "        x = self.dropout(self.norm1(attention + query))\n",
    "        forward = self.feed_forward(x)\n",
    "        out = self.dropout(self.norm2(forward + x))\n",
    "        return out\n",
    "    \n",
    "class Encoder(nn.Module):\n",
    "    def __init__(\n",
    "            self,\n",
    "            scr_vocab_size,\n",
    "            embed_size,\n",
    "            num_layers,\n",
    "            heads,\n",
    "            device,\n",
    "            forward_expansion,\n",
    "            dropout,\n",
    "            max_length\n",
    "    ):\n",
    "        super().__init__()\n",
    "        self.embed_size = embed_size\n",
    "        self.device = device\n",
    "       # self.word_embedding = nn.Embedding(scr_vocab_size, embed_size)\n",
    "        self.position_embedding = nn.Embedding(max_length, embed_size)\n",
    "        \n",
    "        self.layers = nn.ModuleList(\n",
    "            [\n",
    "                TransformerBlock(embed_size, heads, dropout, forward_expansion)\n",
    "                for _ in range(num_layers)\n",
    "            ]\n",
    "        )    \n",
    "        self.dropout = nn.Dropout(dropout)\n",
    "        \n",
    "    def forward(self, x, mask):\n",
    "        N, seq_length, vocab = x.shape\n",
    "        positions = torch.arange(0, seq_length).expand(N, seq_length).to(device)\n",
    "        \n",
    "        out = self.dropout(x + self.position_embedding(positions))\n",
    "        # x B, Seq_len, vocab_size\n",
    "        # pos B, Seq_len, n_embd\n",
    "        for layer in self.layers:\n",
    "            # since we are in encoder and values, queries and keys are the same\n",
    "            out = layer(out, out, out, mask)\n",
    "            \n",
    "        return out\n",
    "    \n",
    "class DecoderBlock(nn.Module):\n",
    "    def __init__(self, embed_size, heads, forward_expansion, dropout, device):\n",
    "        super().__init__()\n",
    "        self.attention = SelfAttention(embed_size, heads)\n",
    "        self.norm = nn.LayerNorm(embed_size)\n",
    "        self.transformer_block = TransformerBlock(\n",
    "            embed_size, heads, dropout, forward_expansion\n",
    "        )\n",
    "        self.dropout = nn.Dropout(dropout)\n",
    "        \n",
    "    # valule and key are from encoder\n",
    "    def forward(self, x, value, key, src_mask, trg_mask):\n",
    "        attention = self.attention(x, x, x, trg_mask)\n",
    "        query = self.dropout(self.norm(attention + x))\n",
    "        out = self.transformer_block(value, key, query, src_mask)\n",
    "        return out\n",
    "    \n",
    "class Decoder(nn.Module):\n",
    "    def __init__(\n",
    "            self,\n",
    "            trg_vocab_size,\n",
    "            embed_size, \n",
    "            num_layers,\n",
    "            heads,\n",
    "            forward_expansion,\n",
    "            dropout,\n",
    "            device,\n",
    "            max_length\n",
    "    ):\n",
    "        super().__init__()\n",
    "        self.device = device\n",
    "        self.word_embedding = nn.Embedding(trg_vocab_size, embed_size)\n",
    "        self.position_embedding = nn.Embedding(max_length, embed_size)\n",
    "        \n",
    "        self.layers = nn.ModuleList(\n",
    "            [\n",
    "                DecoderBlock(embed_size, heads, forward_expansion, dropout, device)\n",
    "                for _ in range(num_layers)\n",
    "            ]\n",
    "        )\n",
    "        \n",
    "        self.fc_out = nn.Linear(embed_size, trg_vocab_size)\n",
    "        self.dropout = nn.Dropout(dropout)\n",
    "        \n",
    "    def forward(self, x, enc_out, src_mask, trg_mask):\n",
    "        N, seq_length = x.shape\n",
    "        positions = torch.arange(0, seq_length).expand(N, seq_length).to(self.device)\n",
    "        x = self.dropout(self.word_embedding(x) + self.position_embedding(positions))\n",
    "        \n",
    "        for layer in self.layers:\n",
    "            x = layer(x, enc_out, enc_out, src_mask, trg_mask)\n",
    "        \n",
    "        out = self.fc_out(x) \n",
    "        return out\n",
    "        \n",
    "        \n",
    "class Transformer(nn.Module):\n",
    "    def __init__(\n",
    "            self,\n",
    "            scr_vocab_size,\n",
    "            trg_vocab_size,\n",
    "            src_pad_idx,\n",
    "            trg_pad_idx,\n",
    "            embed_size=63,\n",
    "            num_layers=6,\n",
    "            forward_expansion=4,\n",
    "            heads=9,\n",
    "            dropout=0,\n",
    "            device=\"cuda\",\n",
    "            max_length=128\n",
    "    ):\n",
    "        super().__init__()\n",
    "        \n",
    "        self.encoder = Encoder(\n",
    "            scr_vocab_size,\n",
    "            embed_size,\n",
    "            num_layers,\n",
    "            heads,\n",
    "            device,\n",
    "            forward_expansion,\n",
    "            dropout,\n",
    "            max_length\n",
    "        )\n",
    "        \n",
    "        self.decoder = Decoder(\n",
    "            trg_vocab_size,\n",
    "            embed_size,\n",
    "            num_layers,\n",
    "            heads,\n",
    "            forward_expansion,\n",
    "            dropout,\n",
    "            device,\n",
    "            max_length\n",
    "        )\n",
    "        \n",
    "        self.src_pad_idx = src_pad_idx\n",
    "        self.trg_pad_idx = trg_pad_idx\n",
    "        self.device = device\n",
    "        \n",
    "    def make_src_mask(self, src):\n",
    "        # (N, 1, 1, src_length)\n",
    "        # src_mask = (src != self.src_pad_idx).unsqueeze(1).unsqueeze(2)\n",
    "        # return src_mask.to(self.device)\n",
    "        return None\n",
    "    \n",
    "    def make_trg_mask(self, trg):\n",
    "        N, trg_length = trg.shape\n",
    "        trg_mask = torch.tril(torch.ones((trg_length, trg_length))).expand(\n",
    "            N, 1, trg_length, trg_length\n",
    "        )\n",
    "        return trg_mask.to(self.device)\n",
    "    \n",
    "    def forward(self, src, trg):\n",
    "        src_mask = self.make_src_mask(src)\n",
    "        trg_mask = self.make_trg_mask(trg)\n",
    "        enc_src = self.encoder(src, src_mask)\n",
    "        out = self.decoder(trg, enc_src, src_mask, trg_mask)\n",
    "        return out\n",
    "    "
   ]
  },
  {
   "cell_type": "code",
   "execution_count": 94,
   "id": "1f21fe8a-ef3f-4846-a8d1-2ce15596c108",
   "metadata": {},
   "outputs": [],
   "source": [
    "class Model(nn.Module):\n",
    "    def __init__(self, src_vocab_size, trg_vocab_size, src_pad_idx, trg_pad_idx, device=device):\n",
    "        super().__init__()\n",
    "        self.cnn = SignRecognition(128).to(device)\n",
    "        self.transformer = Transformer(src_vocab_size, trg_vocab_size, src_pad_idx, trg_pad_idx, device=device)\n",
    "        self.device = device\n",
    "\n",
    "    def forward(self, x, decoder_input_ids=None):\n",
    "        self.train()\n",
    "        if decoder_input_ids is not None:\n",
    "            x = self.cnn(x) # [B, T, Vocab_size]\n",
    "            x = self.transformer(x, decoder_input_ids)\n",
    "        else:\n",
    "            x = self.inference(x)\n",
    "    \n",
    "        return x\n",
    "\n",
    "    # i considered that here i deal with batch, but it's not true\n",
    "    # moreover i can get rid of torch.all() if i would think that \n",
    "    # input is not batched\n",
    "    # it was thoughts about inference function btw\n",
    "        "
   ]
  },
  {
   "cell_type": "code",
   "execution_count": 82,
   "id": "d99769dd-e573-408d-a732-9ad9256caf18",
   "metadata": {},
   "outputs": [],
   "source": [
    "N_UNIQUE_CHARACTERS = 62\n",
    "EOS_TOKEN = 61\n",
    "PAD_TOKEN = 59\n",
    "src_pad_idx = PAD_TOKEN\n",
    "trg_pad_idx = PAD_TOKEN\n",
    "src_vocab_size = N_UNIQUE_CHARACTERS\n",
    "trg_vocab_size = N_UNIQUE_CHARACTERS"
   ]
  },
  {
   "cell_type": "code",
   "execution_count": 95,
   "id": "70e2b86a-0179-4d94-b11d-0ed153d777b9",
   "metadata": {},
   "outputs": [],
   "source": [
    "model = Model(src_vocab_size, trg_vocab_size, src_pad_idx, trg_pad_idx)"
   ]
  },
  {
   "cell_type": "code",
   "execution_count": 96,
   "id": "6cc7da92-399c-48b7-8707-574da342809e",
   "metadata": {},
   "outputs": [
    {
     "data": {
      "text/plain": [
       "Model(\n",
       "  (cnn): SignRecognition(\n",
       "    (conv1): Conv2d(128, 32, kernel_size=(2, 2), stride=(2, 2))\n",
       "    (bn1): BatchNorm2d(32, eps=1e-05, momentum=0.1, affine=True, track_running_stats=True)\n",
       "    (lin1): Linear(in_features=41, out_features=128, bias=True)\n",
       "    (lin2): Linear(in_features=128, out_features=62, bias=True)\n",
       "    (gelu): GELU(approximate='none')\n",
       "    (softmax): Softmax(dim=-1)\n",
       "  )\n",
       "  (transformer): Transformer(\n",
       "    (encoder): Encoder(\n",
       "      (position_embedding): Embedding(128, 63)\n",
       "      (layers): ModuleList(\n",
       "        (0-5): 6 x TransformerBlock(\n",
       "          (attention): SelfAttention(\n",
       "            (values): Linear(in_features=63, out_features=63, bias=False)\n",
       "            (keys): Linear(in_features=63, out_features=63, bias=False)\n",
       "            (queries): Linear(in_features=63, out_features=63, bias=False)\n",
       "            (fc_out): Linear(in_features=63, out_features=63, bias=True)\n",
       "          )\n",
       "          (norm1): LayerNorm((63,), eps=1e-05, elementwise_affine=True)\n",
       "          (norm2): LayerNorm((63,), eps=1e-05, elementwise_affine=True)\n",
       "          (feed_forward): Sequential(\n",
       "            (0): Linear(in_features=63, out_features=252, bias=True)\n",
       "            (1): ReLU()\n",
       "            (2): Linear(in_features=252, out_features=63, bias=True)\n",
       "          )\n",
       "          (dropout): Dropout(p=0, inplace=False)\n",
       "        )\n",
       "      )\n",
       "      (dropout): Dropout(p=0, inplace=False)\n",
       "    )\n",
       "    (decoder): Decoder(\n",
       "      (word_embedding): Embedding(62, 63)\n",
       "      (position_embedding): Embedding(128, 63)\n",
       "      (layers): ModuleList(\n",
       "        (0-5): 6 x DecoderBlock(\n",
       "          (attention): SelfAttention(\n",
       "            (values): Linear(in_features=63, out_features=63, bias=False)\n",
       "            (keys): Linear(in_features=63, out_features=63, bias=False)\n",
       "            (queries): Linear(in_features=63, out_features=63, bias=False)\n",
       "            (fc_out): Linear(in_features=63, out_features=63, bias=True)\n",
       "          )\n",
       "          (norm): LayerNorm((63,), eps=1e-05, elementwise_affine=True)\n",
       "          (transformer_block): TransformerBlock(\n",
       "            (attention): SelfAttention(\n",
       "              (values): Linear(in_features=63, out_features=63, bias=False)\n",
       "              (keys): Linear(in_features=63, out_features=63, bias=False)\n",
       "              (queries): Linear(in_features=63, out_features=63, bias=False)\n",
       "              (fc_out): Linear(in_features=63, out_features=63, bias=True)\n",
       "            )\n",
       "            (norm1): LayerNorm((63,), eps=1e-05, elementwise_affine=True)\n",
       "            (norm2): LayerNorm((63,), eps=1e-05, elementwise_affine=True)\n",
       "            (feed_forward): Sequential(\n",
       "              (0): Linear(in_features=63, out_features=252, bias=True)\n",
       "              (1): ReLU()\n",
       "              (2): Linear(in_features=252, out_features=63, bias=True)\n",
       "            )\n",
       "            (dropout): Dropout(p=0, inplace=False)\n",
       "          )\n",
       "          (dropout): Dropout(p=0, inplace=False)\n",
       "        )\n",
       "      )\n",
       "      (fc_out): Linear(in_features=63, out_features=62, bias=True)\n",
       "      (dropout): Dropout(p=0, inplace=False)\n",
       "    )\n",
       "  )\n",
       ")"
      ]
     },
     "execution_count": 96,
     "metadata": {},
     "output_type": "execute_result"
    }
   ],
   "source": [
    "model"
   ]
  },
  {
   "cell_type": "code",
   "execution_count": 85,
   "id": "03d23b02-baf4-4301-8255-9bbb8e2339bc",
   "metadata": {},
   "outputs": [
    {
     "data": {
      "text/plain": [
       "SignRecognition(\n",
       "  (conv1): Conv2d(128, 64, kernel_size=(2, 2), stride=(2, 2))\n",
       "  (bn1): BatchNorm2d(64, eps=1e-05, momentum=0.1, affine=True, track_running_stats=True)\n",
       "  (leaky_relu): LeakyReLU(negative_slope=0.1)\n",
       "  (conv2): Conv2d(1, 1, kernel_size=(2, 2), stride=(2, 2))\n",
       "  (bn2): BatchNorm2d(1, eps=1e-05, momentum=0.1, affine=True, track_running_stats=True)\n",
       "  (lin1): Linear(in_features=20, out_features=128, bias=True)\n",
       "  (lin2): Linear(in_features=128, out_features=256, bias=True)\n",
       "  (softmax): Softmax(dim=-1)\n",
       "  (tanh): Tanh()\n",
       ")"
      ]
     },
     "execution_count": 85,
     "metadata": {},
     "output_type": "execute_result"
    }
   ],
   "source": [
    "input = torch.randn(1, 128, 82, 2)\n",
    "cnn = SignRecognition(128)\n",
    "cnn"
   ]
  },
  {
   "cell_type": "code",
   "execution_count": 86,
   "id": "224c7053-7857-4fbe-ab11-015b323ed298",
   "metadata": {},
   "outputs": [
    {
     "data": {
      "text/plain": [
       "torch.Size([1, 32, 256])"
      ]
     },
     "execution_count": 86,
     "metadata": {},
     "output_type": "execute_result"
    }
   ],
   "source": [
    "q = cnn(input)\n",
    "q.shape"
   ]
  },
  {
   "cell_type": "code",
   "execution_count": 87,
   "id": "164cf0d5-960c-44ad-9d21-8a0f0f5628f7",
   "metadata": {},
   "outputs": [],
   "source": [
    "decoder_input = torch.randint(0, 62, size=[1, 32])"
   ]
  },
  {
   "cell_type": "code",
   "execution_count": 88,
   "id": "731cb602-1818-4665-969d-1cf984547d76",
   "metadata": {},
   "outputs": [
    {
     "data": {
      "text/plain": [
       "torch.Size([1, 32, 62])"
      ]
     },
     "execution_count": 88,
     "metadata": {},
     "output_type": "execute_result"
    }
   ],
   "source": [
    "q = model(input, decoder_input)\n",
    "q.shape"
   ]
  },
  {
   "cell_type": "code",
   "execution_count": 89,
   "id": "b667bce9-f8a4-487c-82de-dadf81d36874",
   "metadata": {},
   "outputs": [],
   "source": [
    "def get_n_params(model):\n",
    "    pp=0\n",
    "    for p in list(model.parameters()):\n",
    "        nn=1\n",
    "        for s in list(p.size()):\n",
    "            nn = nn*s\n",
    "        pp += nn\n",
    "    return pp"
   ]
  },
  {
   "cell_type": "code",
   "execution_count": 97,
   "id": "90a9e556-e5d6-45f4-b868-1f343ec74756",
   "metadata": {},
   "outputs": [
    {
     "data": {
      "text/plain": [
       "729342"
      ]
     },
     "execution_count": 97,
     "metadata": {},
     "output_type": "execute_result"
    }
   ],
   "source": [
    "get_n_params(model)"
   ]
  },
  {
   "cell_type": "code",
   "execution_count": 90,
   "id": "2a6d84a7-ecc6-4534-b0f0-3855abdb489d",
   "metadata": {},
   "outputs": [
    {
     "data": {
      "text/plain": [
       "6954629"
      ]
     },
     "execution_count": 90,
     "metadata": {},
     "output_type": "execute_result"
    }
   ],
   "source": [
    "get_n_params(model)"
   ]
  },
  {
   "cell_type": "code",
   "execution_count": null,
   "id": "bda820c1-d955-4dd2-8e0e-19292bc988da",
   "metadata": {},
   "outputs": [],
   "source": []
  }
 ],
 "metadata": {
  "kernelspec": {
   "display_name": ".venv",
   "language": "python",
   "name": ".venv"
  },
  "language_info": {
   "codemirror_mode": {
    "name": "ipython",
    "version": 3
   },
   "file_extension": ".py",
   "mimetype": "text/x-python",
   "name": "python",
   "nbconvert_exporter": "python",
   "pygments_lexer": "ipython3",
   "version": "3.11.3"
  }
 },
 "nbformat": 4,
 "nbformat_minor": 5
}
