{
 "cells": [
  {
   "cell_type": "code",
   "execution_count": 1,
   "id": "63338c3c-bfbe-42e9-af9d-ff792926eb6c",
   "metadata": {},
   "outputs": [],
   "source": [
    "#lefenshtein distance"
   ]
  },
  {
   "cell_type": "code",
   "execution_count": 2,
   "id": "bfd4af67-f7bf-45ee-aac4-ed61f7f8872f",
   "metadata": {},
   "outputs": [],
   "source": [
    "import torch\n",
    "import numpy as np"
   ]
  },
  {
   "cell_type": "code",
   "execution_count": 13,
   "id": "9f33e8f0-93c4-4b84-b9b1-ca9ced7f9310",
   "metadata": {
    "scrolled": true
   },
   "outputs": [
    {
     "data": {
      "text/plain": [
       "<torch._C.Generator at 0x7fae2ef9ba70>"
      ]
     },
     "execution_count": 13,
     "metadata": {},
     "output_type": "execute_result"
    }
   ],
   "source": [
    "torch.manual_seed(1337)"
   ]
  },
  {
   "cell_type": "code",
   "execution_count": 14,
   "id": "d7080100-116e-43e7-ad0e-7164b1a7db70",
   "metadata": {},
   "outputs": [],
   "source": [
    "#range\n",
    "max = 61\n",
    "min = 0\n",
    "\n",
    "out = (max-min)*torch.rand((2, 5)) + min"
   ]
  },
  {
   "cell_type": "code",
   "execution_count": 15,
   "id": "54360b83-9684-4e21-a0b4-f58fda4d584e",
   "metadata": {},
   "outputs": [
    {
     "data": {
      "text/plain": [
       "tensor([[ 4, 30, 38, 25, 12],\n",
       "        [ 1, 35, 42, 10, 15]], dtype=torch.int8)"
      ]
     },
     "execution_count": 15,
     "metadata": {},
     "output_type": "execute_result"
    }
   ],
   "source": [
    "out = out.type(torch.int8)\n",
    "out"
   ]
  },
  {
   "cell_type": "code",
   "execution_count": 17,
   "id": "c72521da-cd85-4e2f-8686-1f7693dfb2c9",
   "metadata": {},
   "outputs": [],
   "source": [
    "import Levenshtein"
   ]
  },
  {
   "cell_type": "code",
   "execution_count": 22,
   "id": "eec1b3f5-5d15-49d2-bb9a-7f17cb41ba8c",
   "metadata": {},
   "outputs": [],
   "source": [
    "s1 = \"hello how are you\"\n",
    "s2 = \"holla how are y2u\""
   ]
  },
  {
   "cell_type": "code",
   "execution_count": 23,
   "id": "ee91ff85-5cd4-4e6f-b51c-77a1cf7fcaa2",
   "metadata": {},
   "outputs": [
    {
     "data": {
      "text/plain": [
       "3"
      ]
     },
     "execution_count": 23,
     "metadata": {},
     "output_type": "execute_result"
    }
   ],
   "source": [
    "Levenshtein.distance(s1, s2)"
   ]
  },
  {
   "cell_type": "code",
   "execution_count": 33,
   "id": "da04bf3d-9eb0-4470-b66d-6ba7d65be181",
   "metadata": {},
   "outputs": [],
   "source": [
    "def metric(pred: torch.tensor, target:torch.tensor):\n",
    "    # shouldn't count pad token \n",
    "    # if i would use it in model\n",
    "    full_distance = 0\n",
    "    N = 0\n",
    "    for i in range(len(pred)):# through batches\n",
    "        for j in range(len(pred[i])): # through signs\n",
    "            p = encode(pred[i][j])\n",
    "            t = encode(target[i][j])\n",
    "            # i should cut words so that there is no pad tokens\n",
    "            # this is gonna count pad token pepesad        \n",
    "            distance = Levenshtein.distance(p, t)\n",
    "            full_distance += distance\n",
    "            N += len(p) + len(t)\n",
    "        \n",
    "    return (N - D) / N\n"
   ]
  },
  {
   "cell_type": "code",
   "execution_count": 34,
   "id": "0592005f-ff48-4b08-aa64-44033cc365e6",
   "metadata": {},
   "outputs": [
    {
     "ename": "TypeError",
     "evalue": "iteration over a 0-d tensor",
     "output_type": "error",
     "traceback": [
      "\u001b[0;31m---------------------------------------------------------------------------\u001b[0m",
      "\u001b[0;31mTypeError\u001b[0m                                 Traceback (most recent call last)",
      "Cell \u001b[0;32mIn[34], line 1\u001b[0m\n\u001b[0;32m----> 1\u001b[0m \u001b[43mmetric\u001b[49m\u001b[43m(\u001b[49m\u001b[43mout\u001b[49m\u001b[43m,\u001b[49m\u001b[43m \u001b[49m\u001b[43mout\u001b[49m\u001b[43m \u001b[49m\u001b[38;5;241;43m+\u001b[39;49m\u001b[43m \u001b[49m\u001b[38;5;241;43m10\u001b[39;49m\u001b[43m)\u001b[49m\n",
      "Cell \u001b[0;32mIn[33], line 8\u001b[0m, in \u001b[0;36mmetric\u001b[0;34m(pred, target)\u001b[0m\n\u001b[1;32m      6\u001b[0m \u001b[38;5;28;01mfor\u001b[39;00m i \u001b[38;5;129;01min\u001b[39;00m \u001b[38;5;28mrange\u001b[39m(\u001b[38;5;28mlen\u001b[39m(pred)):\u001b[38;5;66;03m# through batches\u001b[39;00m\n\u001b[1;32m      7\u001b[0m     \u001b[38;5;28;01mfor\u001b[39;00m j \u001b[38;5;129;01min\u001b[39;00m \u001b[38;5;28mrange\u001b[39m(\u001b[38;5;28mlen\u001b[39m(pred[i])): \u001b[38;5;66;03m# through signs\u001b[39;00m\n\u001b[0;32m----> 8\u001b[0m         p \u001b[38;5;241m=\u001b[39m \u001b[43mencode\u001b[49m\u001b[43m(\u001b[49m\u001b[43mpred\u001b[49m\u001b[43m[\u001b[49m\u001b[43mi\u001b[49m\u001b[43m]\u001b[49m\u001b[43m[\u001b[49m\u001b[43mj\u001b[49m\u001b[43m]\u001b[49m\u001b[43m)\u001b[49m\n\u001b[1;32m      9\u001b[0m         t \u001b[38;5;241m=\u001b[39m encode(target[i][j])\n\u001b[1;32m     10\u001b[0m         \u001b[38;5;66;03m# i should cut words so that there is no pad tokens\u001b[39;00m\n\u001b[1;32m     11\u001b[0m         \u001b[38;5;66;03m# this is gonna count pad token pepesad        \u001b[39;00m\n",
      "Cell \u001b[0;32mIn[4], line 6\u001b[0m, in \u001b[0;36mencode\u001b[0;34m(out)\u001b[0m\n\u001b[1;32m      2\u001b[0m \u001b[38;5;250m\u001b[39m\u001b[38;5;124;03m\"\"\"\u001b[39;00m\n\u001b[1;32m      3\u001b[0m \u001b[38;5;124;03mencode output of model into text\u001b[39;00m\n\u001b[1;32m      4\u001b[0m \u001b[38;5;124;03m\"\"\"\u001b[39;00m\n\u001b[1;32m      5\u001b[0m text \u001b[38;5;241m=\u001b[39m []\n\u001b[0;32m----> 6\u001b[0m \u001b[38;5;28;01mfor\u001b[39;00m x \u001b[38;5;129;01min\u001b[39;00m out:\n\u001b[1;32m      7\u001b[0m     \u001b[38;5;28;01mif\u001b[39;00m x \u001b[38;5;241m==\u001b[39m \u001b[38;5;124m\"\u001b[39m\u001b[38;5;124m<EOS>\u001b[39m\u001b[38;5;124m\"\u001b[39m:\n\u001b[1;32m      8\u001b[0m         \u001b[38;5;28;01mbreak\u001b[39;00m\n",
      "File \u001b[0;32m~/programming/machine_learning/alfa_bank_receipts/.venv/lib/python3.11/site-packages/torch/_tensor.py:930\u001b[0m, in \u001b[0;36mTensor.__iter__\u001b[0;34m(self)\u001b[0m\n\u001b[1;32m    920\u001b[0m \u001b[38;5;28;01mdef\u001b[39;00m \u001b[38;5;21m__iter__\u001b[39m(\u001b[38;5;28mself\u001b[39m):\n\u001b[1;32m    921\u001b[0m     \u001b[38;5;66;03m# NB: we use 'imap' and not 'map' here, so that in Python 2 we get a\u001b[39;00m\n\u001b[1;32m    922\u001b[0m     \u001b[38;5;66;03m# generator and don't eagerly perform all the indexes.  This could\u001b[39;00m\n\u001b[0;32m   (...)\u001b[0m\n\u001b[1;32m    927\u001b[0m     \u001b[38;5;66;03m# NB: We have intentionally skipped __torch_function__ dispatch here.\u001b[39;00m\n\u001b[1;32m    928\u001b[0m     \u001b[38;5;66;03m# See gh-54457\u001b[39;00m\n\u001b[1;32m    929\u001b[0m     \u001b[38;5;28;01mif\u001b[39;00m \u001b[38;5;28mself\u001b[39m\u001b[38;5;241m.\u001b[39mdim() \u001b[38;5;241m==\u001b[39m \u001b[38;5;241m0\u001b[39m:\n\u001b[0;32m--> 930\u001b[0m         \u001b[38;5;28;01mraise\u001b[39;00m \u001b[38;5;167;01mTypeError\u001b[39;00m(\u001b[38;5;124m\"\u001b[39m\u001b[38;5;124miteration over a 0-d tensor\u001b[39m\u001b[38;5;124m\"\u001b[39m)\n\u001b[1;32m    931\u001b[0m     \u001b[38;5;28;01mif\u001b[39;00m torch\u001b[38;5;241m.\u001b[39m_C\u001b[38;5;241m.\u001b[39m_get_tracing_state():\n\u001b[1;32m    932\u001b[0m         warnings\u001b[38;5;241m.\u001b[39mwarn(\n\u001b[1;32m    933\u001b[0m             \u001b[38;5;124m\"\u001b[39m\u001b[38;5;124mIterating over a tensor might cause the trace to be incorrect. \u001b[39m\u001b[38;5;124m\"\u001b[39m\n\u001b[1;32m    934\u001b[0m             \u001b[38;5;124m\"\u001b[39m\u001b[38;5;124mPassing a tensor of different shape won\u001b[39m\u001b[38;5;124m'\u001b[39m\u001b[38;5;124mt change the number of \u001b[39m\u001b[38;5;124m\"\u001b[39m\n\u001b[0;32m   (...)\u001b[0m\n\u001b[1;32m    938\u001b[0m             stacklevel\u001b[38;5;241m=\u001b[39m\u001b[38;5;241m2\u001b[39m,\n\u001b[1;32m    939\u001b[0m         )\n",
      "\u001b[0;31mTypeError\u001b[0m: iteration over a 0-d tensor"
     ]
    }
   ],
   "source": [
    "metric(out, out + 10)"
   ]
  },
  {
   "cell_type": "code",
   "execution_count": 2,
   "id": "d0ac3b5d-7d4c-49e3-bad2-c1240e838793",
   "metadata": {},
   "outputs": [
    {
     "data": {
      "text/plain": [
       "(54719, 128)"
      ]
     },
     "execution_count": 2,
     "metadata": {},
     "output_type": "execute_result"
    }
   ],
   "source": [
    "import numpy as np\n",
    "y = np.load('../data/y_train.npy')\n",
    "y.shape"
   ]
  },
  {
   "cell_type": "code",
   "execution_count": 3,
   "id": "c20dabc6-2edd-47c0-ba9a-2ce0cc1d7bc2",
   "metadata": {},
   "outputs": [
    {
     "data": {
      "text/plain": [
       "array([[18,  0, 34, ..., 59, 59, 59],\n",
       "       [39, 36, 45, ..., 59, 59, 59],\n",
       "       [16, 18, 23, ..., 59, 59, 59],\n",
       "       ...,\n",
       "       [24, 24, 19, ..., 59, 59, 59],\n",
       "       [39, 51, 51, ..., 59, 59, 59],\n",
       "       [23, 15, 17, ..., 59, 59, 59]], dtype=int8)"
      ]
     },
     "execution_count": 3,
     "metadata": {},
     "output_type": "execute_result"
    }
   ],
   "source": [
    "y"
   ]
  },
  {
   "cell_type": "code",
   "execution_count": 7,
   "id": "49f84078-ce24-4d2d-a515-31a707e44df4",
   "metadata": {},
   "outputs": [
    {
     "data": {
      "text/plain": [
       "array([59, 59, 59, 59, 59, 59, 59, 59, 59, 59, 59, 59, 59, 59, 59, 59, 59,\n",
       "       59, 59, 59, 59, 59, 59, 59, 59, 59, 59, 59, 59, 59], dtype=int8)"
      ]
     },
     "execution_count": 7,
     "metadata": {},
     "output_type": "execute_result"
    }
   ],
   "source": [
    "y[0, 20:50]"
   ]
  },
  {
   "cell_type": "code",
   "execution_count": null,
   "id": "a7059d18-d639-483e-ba6e-b2a3f8945a02",
   "metadata": {},
   "outputs": [],
   "source": []
  }
 ],
 "metadata": {
  "kernelspec": {
   "display_name": ".venv",
   "language": "python",
   "name": ".venv"
  },
  "language_info": {
   "codemirror_mode": {
    "name": "ipython",
    "version": 3
   },
   "file_extension": ".py",
   "mimetype": "text/x-python",
   "name": "python",
   "nbconvert_exporter": "python",
   "pygments_lexer": "ipython3",
   "version": "3.11.3"
  }
 },
 "nbformat": 4,
 "nbformat_minor": 5
}
