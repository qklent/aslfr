{
 "cells": [
  {
   "cell_type": "code",
   "execution_count": 23,
   "id": "e154eb39-368e-4601-bc60-ea9b055b78d4",
   "metadata": {},
   "outputs": [
    {
     "name": "stderr",
     "output_type": "stream",
     "text": [
      "2023-08-12 01:18:53.738762: I tensorflow/tsl/cuda/cudart_stub.cc:28] Could not find cuda drivers on your machine, GPU will not be used.\n",
      "2023-08-12 01:18:53.808941: I tensorflow/tsl/cuda/cudart_stub.cc:28] Could not find cuda drivers on your machine, GPU will not be used.\n",
      "2023-08-12 01:18:53.810632: I tensorflow/core/platform/cpu_feature_guard.cc:182] This TensorFlow binary is optimized to use available CPU instructions in performance-critical operations.\n",
      "To enable the following instructions: AVX2 FMA, in other operations, rebuild TensorFlow with the appropriate compiler flags.\n",
      "2023-08-12 01:18:55.863742: W tensorflow/compiler/tf2tensorrt/utils/py_utils.cc:38] TF-TRT Warning: Could not find TensorRT\n"
     ]
    }
   ],
   "source": [
    "import numpy as np\n",
    "import torch\n",
    "import tensorflow as tf"
   ]
  },
  {
   "cell_type": "code",
   "execution_count": 31,
   "id": "5aafffb9-7f6c-443d-b99b-42fff9595a8d",
   "metadata": {
    "scrolled": true
   },
   "outputs": [],
   "source": [
    "a = torch.zeros(3, 1)\n",
    "b = torch.zeros(1, 2, 3)\n"
   ]
  },
  {
   "cell_type": "code",
   "execution_count": 36,
   "id": "29175eb2-cc57-4ec9-b556-ab8a6379aef4",
   "metadata": {},
   "outputs": [
    {
     "name": "stdout",
     "output_type": "stream",
     "text": [
      "0.0\n",
      "0.0\n",
      "0.0\n"
     ]
    }
   ],
   "source": [
    "for x in a:\n",
    "    print(x.tolist()[0])"
   ]
  },
  {
   "cell_type": "code",
   "execution_count": 46,
   "id": "07cb0a8a-f551-4dc2-b302-298e5adcdf47",
   "metadata": {},
   "outputs": [],
   "source": [
    "a = torch.zeros(64, 1).view(64)\n",
    "a = a.numpy()"
   ]
  },
  {
   "cell_type": "code",
   "execution_count": 48,
   "id": "356eb918-64c8-428d-a44e-8090ebeb7845",
   "metadata": {},
   "outputs": [
    {
     "data": {
      "text/plain": [
       "True"
      ]
     },
     "execution_count": 48,
     "metadata": {},
     "output_type": "execute_result"
    }
   ],
   "source": [
    "np.all(a == 0)"
   ]
  },
  {
   "cell_type": "code",
   "execution_count": null,
   "id": "88ee676b-592b-47fd-b1be-b4f2f7da9625",
   "metadata": {},
   "outputs": [],
   "source": [
    "input_ids = torch.randn(1, 128, 82, 2)\n",
    "\n",
    "# Perform auto-regressive decoding\n",
    "max_length = MAX_PHRASE_LENGTH # Adjust as needed\n",
    "decoder_input_ids = torch.full((1, 1), SOS_TOKEN, dtype=torch.long)\n",
    "for step in range(max_length):\n",
    "    with torch.no_grad():\n",
    "        logits = model(input_ids, decoder_input_ids=decoder_input_ids)[:, -1, :]\n",
    "    predicted_token = torch.argmax(logits, axis=-1)\n",
    "    print(decoder_input_ids.shape, predicted_token.shape)\n",
    "    decoder_input_ids = torch.cat((decoder_input_ids, predicted_token.unsqueeze(1)), axis=-1)\n",
    "    \n",
    "    if predicted_token.item() == EOS_TOKEN:\n",
    "        break\n",
    "\n"
   ]
  }
 ],
 "metadata": {
  "kernelspec": {
   "display_name": ".venv",
   "language": "python",
   "name": ".venv"
  },
  "language_info": {
   "codemirror_mode": {
    "name": "ipython",
    "version": 3
   },
   "file_extension": ".py",
   "mimetype": "text/x-python",
   "name": "python",
   "nbconvert_exporter": "python",
   "pygments_lexer": "ipython3",
   "version": "3.11.3"
  }
 },
 "nbformat": 4,
 "nbformat_minor": 5
}
